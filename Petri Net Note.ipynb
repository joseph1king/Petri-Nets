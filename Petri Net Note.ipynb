{
 "cells": [
  {
   "cell_type": "markdown",
   "metadata": {},
   "source": [
    "# Petri Nets\n",
    "- Petri Nets is to describe state changes in a system.\n",
    "\n",
    "## key elemets\n",
    "  - places: symbolish states,conditons\n",
    "  - transitions: represent actions.\n",
    "  - directed arcs:connect places and transitions\n",
    "  - tokens: just like an available resource\n",
    "      - tokens can be transfer to other places by firing action\n",
    "\n",
    "## Strength\n",
    "   - concurrent system (简单的并发系统模型)\n",
    "   - able to express models concurrency, conflict , causality(因果关系)...\n",
    "   - describe finite or infinite state models.\n",
    "    \n",
    "## P/T nets\n",
    "\n",
    "### key signs of P/T nets\n",
    "  - P is a finite set of places\n",
    "  - T is a finita set of transitions. \n",
    "  - I means input (P -> T)\n",
    "  - O means output (T -> P)\n",
    "  - M0 is initial marking. \n",
    "      - Marking is an assignment of tokens to the places of PT nets.\n",
    " \n",
    "### Academic terms\n",
    "\n",
    "   - Enabling Rules: tokens in place > = direcited arc weight\n",
    "   - Firing Rule\n",
    "       - fire depends on the situation\n",
    "       - enabled transition only can remove the number of token equal to the weight each time. \n",
    "       - if there is no token in the place, even if the transition is enabled, it also cannot fire.\n",
    "   - source transiton: without any input place.It was born to be enabled.It doesn't need any condition. (天才，生来比人家强)\n",
    "   - sink transition: ther firing of sink transition consumes tokens but doesn't produc e tokens. (只进不出)\n",
    "   - self-loop: the name implies that this is a loop. only one place. it is not only input place, but also the output place. (not a good thing)\n",
    "   - pure PT: which doesn't have self-loop\n",
    "   \n",
    "       \n"
   ]
  }
 ],
 "metadata": {
  "kernelspec": {
   "display_name": "Python 3",
   "language": "python",
   "name": "python3"
  },
  "language_info": {
   "codemirror_mode": {
    "name": "ipython",
    "version": 3
   },
   "file_extension": ".py",
   "mimetype": "text/x-python",
   "name": "python",
   "nbconvert_exporter": "python",
   "pygments_lexer": "ipython3",
   "version": "3.6.4"
  }
 },
 "nbformat": 4,
 "nbformat_minor": 2
}
